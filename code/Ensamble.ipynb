{
 "cells": [
  {
   "cell_type": "code",
   "execution_count": 4,
   "id": "49222073-1a0f-4043-ba44-fd208165c588",
   "metadata": {
    "tags": []
   },
   "outputs": [],
   "source": [
    "import numpy as np\n",
    "from sklearn.ensemble import GradientBoostingClassifier\n",
    "from sklearn.metrics import accuracy_score\n",
    "import os\n",
    "import matplotlib.pyplot as plt\n",
    "import cv2\n",
    "import tensorflow as tf\n",
    "from tensorflow.keras.applications.densenet import preprocess_input\n",
    "import joblib\n",
    "from sklearn.model_selection import GridSearchCV\n",
    "from tensorflow.keras.preprocessing.image import ImageDataGenerator"
   ]
  },
  {
   "cell_type": "code",
   "execution_count": 5,
   "id": "198f3cee-0cc8-43dc-82d7-9986c1605945",
   "metadata": {
    "tags": []
   },
   "outputs": [],
   "source": [
    "#importing needed elements \n",
    "model1 = tf.keras.models.load_model('../models/resnet50_model_3/')\n",
    "model2 = tf.keras.models.load_model('../models/resnet50_model_4/')\n",
    "model3 = tf.keras.models.load_model('../models/resnet50_model_5/')\n",
    "train_data_dir = ('../images/train/')\n",
    "val_data_dir = ('../images/val/')\n",
    "test_data_dir = ('../images/test/')\n",
    "batch_size = 32\n",
    "num_classes = 4\n",
    "input_shape = (224, 224, 3)"
   ]
  },
  {
   "cell_type": "code",
   "execution_count": 6,
   "id": "472f6164-d047-4e21-b46a-2bda5029c23f",
   "metadata": {
    "tags": []
   },
   "outputs": [
    {
     "name": "stdout",
     "output_type": "stream",
     "text": [
      "Found 10175 images belonging to 4 classes.\n"
     ]
    }
   ],
   "source": [
    "#preprocess for training data \n",
    "train_data_gen = ImageDataGenerator(rescale=1.0/255.0)\n",
    "train_generator = train_data_gen.flow_from_directory(\n",
    "    train_data_dir,\n",
    "    target_size=(input_shape[0], input_shape[1]),\n",
    "    batch_size=batch_size,\n",
    "    class_mode='sparse',  \n",
    "    shuffle=False\n",
    ")"
   ]
  },
  {
   "cell_type": "code",
   "execution_count": 7,
   "id": "dfaa0850-343d-4e21-bf10-97bc5385172a",
   "metadata": {
    "tags": []
   },
   "outputs": [
    {
     "name": "stdout",
     "output_type": "stream",
     "text": [
      "318/318 [==============================] - 32440s 102s/step\n",
      "318/318 [==============================] - 738s 2s/step\n",
      "318/318 [==============================] - 872s 3s/step\n"
     ]
    }
   ],
   "source": [
    "#running the trianing models \n",
    "predictions_model1_train = model1.predict(train_generator)\n",
    "predictions_model2_train = model2.predict(train_generator)\n",
    "predictions_model3_train = model3.predict(train_generator)"
   ]
  },
  {
   "cell_type": "code",
   "execution_count": 8,
   "id": "c982355f-dbf3-42cf-a097-7d2af19881b2",
   "metadata": {
    "tags": []
   },
   "outputs": [
    {
     "name": "stdout",
     "output_type": "stream",
     "text": [
      "Ensemble Accuracy on Train Set: 0.3307125307125307\n"
     ]
    }
   ],
   "source": [
    "# Making the labels for the train set\n",
    "train_labels = train_generator.labels\n",
    "\n",
    "# Ensembling the predictions on the train set\n",
    "ensemble_predictions_train = np.argmax((predictions_model1_train + predictions_model2_train + predictions_model3_train), axis=1)\n",
    "\n",
    "ensemble_accuracy_train = accuracy_score(train_labels, ensemble_predictions_train)\n",
    "print(\"Ensemble Accuracy on Train Set:\", ensemble_accuracy_train)"
   ]
  },
  {
   "cell_type": "code",
   "execution_count": 9,
   "id": "9c32208a-559a-4922-9c9f-617f3aa8fd03",
   "metadata": {
    "tags": []
   },
   "outputs": [
    {
     "name": "stdout",
     "output_type": "stream",
     "text": [
      "Found 2177 images belonging to 4 classes.\n"
     ]
    }
   ],
   "source": [
    "#test preprocess \n",
    "test_data_gen = ImageDataGenerator(rescale=1.0/255.0)\n",
    "test_generator = test_data_gen.flow_from_directory(\n",
    "    test_data_dir,\n",
    "    target_size=(input_shape[0], input_shape[1]),\n",
    "    batch_size=batch_size,\n",
    "    class_mode='sparse',  \n",
    "    shuffle=False\n",
    ")"
   ]
  },
  {
   "cell_type": "code",
   "execution_count": 10,
   "id": "26b8933c-2351-4035-8a55-b08e9b24715d",
   "metadata": {},
   "outputs": [
    {
     "name": "stdout",
     "output_type": "stream",
     "text": [
      "69/69 [==============================] - 210s 3s/step\n",
      "69/69 [==============================] - 160s 2s/step\n",
      "69/69 [==============================] - 162s 2s/step\n"
     ]
    }
   ],
   "source": [
    "#running the test data \n",
    "predictions_model1_test = model1.predict(test_generator)\n",
    "predictions_model2_test = model2.predict(test_generator)\n",
    "predictions_model3_test = model3.predict(test_generator)"
   ]
  },
  {
   "cell_type": "code",
   "execution_count": 11,
   "id": "a90f967e-f8e9-4221-a8f0-a434b26d1acd",
   "metadata": {
    "tags": []
   },
   "outputs": [
    {
     "name": "stdout",
     "output_type": "stream",
     "text": [
      "Ensemble Accuracy on Test Set: 0.3330271015158475\n"
     ]
    }
   ],
   "source": [
    "#making the labels \n",
    "test_labels = test_generator.labels\n",
    "\n",
    "# Ensembling the predictions\n",
    "ensemble_predictions_test = np.argmax((predictions_model1_test + predictions_model2_test + predictions_model3_test), axis=1)\n",
    "\n",
    "ensemble_accuracy_test = accuracy_score(test_labels, ensemble_predictions_test)\n",
    "print(\"Ensemble Accuracy on Test Set:\", ensemble_accuracy_test)"
   ]
  },
  {
   "cell_type": "code",
   "execution_count": 12,
   "id": "31e27546-e436-4eca-b255-4273f622df78",
   "metadata": {
    "tags": []
   },
   "outputs": [],
   "source": [
    "#setting x and y \n",
    "X_train_gb = ensemble_predictions_train\n",
    "y_train_gb = train_labels\n",
    "X_test_gb = ensemble_predictions_test\n",
    "y_test_gb = test_labels"
   ]
  },
  {
   "cell_type": "code",
   "execution_count": 13,
   "id": "fd1bd814-b5ff-44f2-ae02-55dd8ffd4c7b",
   "metadata": {
    "tags": []
   },
   "outputs": [
    {
     "name": "stdout",
     "output_type": "stream",
     "text": [
      "Best Hyperparameters: {'learning_rate': 1, 'max_depth': 2, 'n_estimators': 2}\n"
     ]
    },
    {
     "data": {
      "text/html": [
       "<style>#sk-container-id-1 {color: black;}#sk-container-id-1 pre{padding: 0;}#sk-container-id-1 div.sk-toggleable {background-color: white;}#sk-container-id-1 label.sk-toggleable__label {cursor: pointer;display: block;width: 100%;margin-bottom: 0;padding: 0.3em;box-sizing: border-box;text-align: center;}#sk-container-id-1 label.sk-toggleable__label-arrow:before {content: \"▸\";float: left;margin-right: 0.25em;color: #696969;}#sk-container-id-1 label.sk-toggleable__label-arrow:hover:before {color: black;}#sk-container-id-1 div.sk-estimator:hover label.sk-toggleable__label-arrow:before {color: black;}#sk-container-id-1 div.sk-toggleable__content {max-height: 0;max-width: 0;overflow: hidden;text-align: left;background-color: #f0f8ff;}#sk-container-id-1 div.sk-toggleable__content pre {margin: 0.2em;color: black;border-radius: 0.25em;background-color: #f0f8ff;}#sk-container-id-1 input.sk-toggleable__control:checked~div.sk-toggleable__content {max-height: 200px;max-width: 100%;overflow: auto;}#sk-container-id-1 input.sk-toggleable__control:checked~label.sk-toggleable__label-arrow:before {content: \"▾\";}#sk-container-id-1 div.sk-estimator input.sk-toggleable__control:checked~label.sk-toggleable__label {background-color: #d4ebff;}#sk-container-id-1 div.sk-label input.sk-toggleable__control:checked~label.sk-toggleable__label {background-color: #d4ebff;}#sk-container-id-1 input.sk-hidden--visually {border: 0;clip: rect(1px 1px 1px 1px);clip: rect(1px, 1px, 1px, 1px);height: 1px;margin: -1px;overflow: hidden;padding: 0;position: absolute;width: 1px;}#sk-container-id-1 div.sk-estimator {font-family: monospace;background-color: #f0f8ff;border: 1px dotted black;border-radius: 0.25em;box-sizing: border-box;margin-bottom: 0.5em;}#sk-container-id-1 div.sk-estimator:hover {background-color: #d4ebff;}#sk-container-id-1 div.sk-parallel-item::after {content: \"\";width: 100%;border-bottom: 1px solid gray;flex-grow: 1;}#sk-container-id-1 div.sk-label:hover label.sk-toggleable__label {background-color: #d4ebff;}#sk-container-id-1 div.sk-serial::before {content: \"\";position: absolute;border-left: 1px solid gray;box-sizing: border-box;top: 0;bottom: 0;left: 50%;z-index: 0;}#sk-container-id-1 div.sk-serial {display: flex;flex-direction: column;align-items: center;background-color: white;padding-right: 0.2em;padding-left: 0.2em;position: relative;}#sk-container-id-1 div.sk-item {position: relative;z-index: 1;}#sk-container-id-1 div.sk-parallel {display: flex;align-items: stretch;justify-content: center;background-color: white;position: relative;}#sk-container-id-1 div.sk-item::before, #sk-container-id-1 div.sk-parallel-item::before {content: \"\";position: absolute;border-left: 1px solid gray;box-sizing: border-box;top: 0;bottom: 0;left: 50%;z-index: -1;}#sk-container-id-1 div.sk-parallel-item {display: flex;flex-direction: column;z-index: 1;position: relative;background-color: white;}#sk-container-id-1 div.sk-parallel-item:first-child::after {align-self: flex-end;width: 50%;}#sk-container-id-1 div.sk-parallel-item:last-child::after {align-self: flex-start;width: 50%;}#sk-container-id-1 div.sk-parallel-item:only-child::after {width: 0;}#sk-container-id-1 div.sk-dashed-wrapped {border: 1px dashed gray;margin: 0 0.4em 0.5em 0.4em;box-sizing: border-box;padding-bottom: 0.4em;background-color: white;}#sk-container-id-1 div.sk-label label {font-family: monospace;font-weight: bold;display: inline-block;line-height: 1.2em;}#sk-container-id-1 div.sk-label-container {text-align: center;}#sk-container-id-1 div.sk-container {/* jupyter's `normalize.less` sets `[hidden] { display: none; }` but bootstrap.min.css set `[hidden] { display: none !important; }` so we also need the `!important` here to be able to override the default hidden behavior on the sphinx rendered scikit-learn.org. See: https://github.com/scikit-learn/scikit-learn/issues/21755 */display: inline-block !important;position: relative;}#sk-container-id-1 div.sk-text-repr-fallback {display: none;}</style><div id=\"sk-container-id-1\" class=\"sk-top-container\"><div class=\"sk-text-repr-fallback\"><pre>GradientBoostingClassifier(learning_rate=1, max_depth=2, n_estimators=2,\n",
       "                           random_state=42)</pre><b>In a Jupyter environment, please rerun this cell to show the HTML representation or trust the notebook. <br />On GitHub, the HTML representation is unable to render, please try loading this page with nbviewer.org.</b></div><div class=\"sk-container\" hidden><div class=\"sk-item\"><div class=\"sk-estimator sk-toggleable\"><input class=\"sk-toggleable__control sk-hidden--visually\" id=\"sk-estimator-id-1\" type=\"checkbox\" checked><label for=\"sk-estimator-id-1\" class=\"sk-toggleable__label sk-toggleable__label-arrow\">GradientBoostingClassifier</label><div class=\"sk-toggleable__content\"><pre>GradientBoostingClassifier(learning_rate=1, max_depth=2, n_estimators=2,\n",
       "                           random_state=42)</pre></div></div></div></div></div>"
      ],
      "text/plain": [
       "GradientBoostingClassifier(learning_rate=1, max_depth=2, n_estimators=2,\n",
       "                           random_state=42)"
      ]
     },
     "execution_count": 13,
     "metadata": {},
     "output_type": "execute_result"
    }
   ],
   "source": [
    "# reshaping into a matrix \n",
    "X_train_gb = X_train_gb.reshape(-1, 1)\n",
    "\n",
    "#verifying it is an array and doing a grid search \n",
    "assert y_train_gb.ndim == 1\n",
    "gb_classifier = GradientBoostingClassifier(random_state=42)\n",
    "param_grid = {\n",
    "    'n_estimators': [2, 3, 5],\n",
    "    'learning_rate': [5, 3, 1],\n",
    "    'max_depth': [2, 3]\n",
    "}\n",
    "grid_search = GridSearchCV(gb_classifier, param_grid, cv=5)\n",
    "grid_search.fit(X_train_gb, y_train_gb)\n",
    "best_params = grid_search.best_params_\n",
    "best_model = grid_search.best_estimator_\n",
    "print(\"Best Hyperparameters:\", best_params)\n",
    "\n",
    "#take the best model and train it \n",
    "best_model.fit(X_train_gb, y_train_gb)"
   ]
  },
  {
   "cell_type": "code",
   "execution_count": 14,
   "id": "7cec8a9d-608a-4429-a0ab-c0ce02939643",
   "metadata": {
    "tags": []
   },
   "outputs": [
    {
     "name": "stdout",
     "output_type": "stream",
     "text": [
      "Validation Accuracy: 0.34726688102893893\n"
     ]
    }
   ],
   "source": [
    "# reshape X_test_gb to an array\n",
    "X_test_gb = X_test_gb.reshape(-1, 1)\n",
    "\n",
    "# predictions\n",
    "X_test_gb = X_test_gb.reshape(-1, 1)\n",
    "y_val_pred = best_model.predict(X_test_gb)\n",
    "val_accuracy = accuracy_score(y_test_gb, y_val_pred)\n",
    "print(\"Validation Accuracy:\", val_accuracy)"
   ]
  },
  {
   "cell_type": "code",
   "execution_count": 15,
   "id": "2d631fab-7951-4df1-bc71-59f84666df05",
   "metadata": {
    "tags": []
   },
   "outputs": [
    {
     "name": "stdout",
     "output_type": "stream",
     "text": [
      "Model saved to ../models/gb.pkl\n"
     ]
    }
   ],
   "source": [
    "#saving the model \n",
    "model_filename = '../models/gb.pkl'\n",
    "joblib.dump(best_model, model_filename)\n",
    "print(f\"Model saved to {model_filename}\")"
   ]
  }
 ],
 "metadata": {
  "kernelspec": {
   "display_name": "Python 3 (ipykernel)",
   "language": "python",
   "name": "python3"
  },
  "language_info": {
   "codemirror_mode": {
    "name": "ipython",
    "version": 3
   },
   "file_extension": ".py",
   "mimetype": "text/x-python",
   "name": "python",
   "nbconvert_exporter": "python",
   "pygments_lexer": "ipython3",
   "version": "3.10.9"
  }
 },
 "nbformat": 4,
 "nbformat_minor": 5
}
